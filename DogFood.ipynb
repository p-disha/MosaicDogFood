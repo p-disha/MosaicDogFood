{
  "nbformat": 4,
  "nbformat_minor": 0,
  "metadata": {
    "colab": {
      "provenance": []
    },
    "kernelspec": {
      "name": "python3",
      "display_name": "Python 3"
    },
    "language_info": {
      "name": "python"
    }
  },
  "cells": [
    {
      "cell_type": "code",
      "execution_count": null,
      "metadata": {
        "colab": {
          "base_uri": "https://localhost:8080/"
        },
        "id": "QMWoKFYdcQVf",
        "outputId": "84c4c832-2ad7-4507-b4e9-ff4400cbf417"
      },
      "outputs": [
        {
          "output_type": "stream",
          "name": "stdout",
          "text": [
            "The amount of dog food to order is 189.0 lb.\n"
          ]
        }
      ],
      "source": [
        "def calculate_dog_food_order(small_dogs, medium_dogs, large_dogs, remaining_food):\n",
        "    # Define food requirements per dog size\n",
        "    food_per_small_dog = 10\n",
        "    food_per_medium_dog = 20\n",
        "    food_per_large_dog = 30\n",
        "\n",
        "    # Calculate the total food needed for each dog size\n",
        "    total_food_small = small_dogs * food_per_small_dog\n",
        "    total_food_medium = medium_dogs * food_per_medium_dog\n",
        "    total_food_large = large_dogs * food_per_large_dog\n",
        "\n",
        "    # Calculate the total food needed for all dogs\n",
        "    total_food_needed = total_food_small + total_food_medium + total_food_large\n",
        "\n",
        "    # Add 20% more food for safety\n",
        "    total_food_needed += 0.2 * total_food_needed\n",
        "\n",
        "    # Calculate the total food required, considering remaining food\n",
        "    food_required = total_food_needed - remaining_food\n",
        "\n",
        "    # Ensure the result is not negative\n",
        "    if food_required < 0:\n",
        "        food_required = 0  # Set to 0 if negative\n",
        "\n",
        "    return food_required\n",
        "\n",
        "# Example usage\n",
        "small_dogs = 3\n",
        "medium_dogs = 1\n",
        "large_dogs = 4\n",
        "remaining_food = 15\n",
        "\n",
        "food_to_order = calculate_dog_food_order(small_dogs, medium_dogs, large_dogs, remaining_food)\n",
        "print(f\"The amount of dog food to order is {food_to_order} lb.\")\n"
      ]
    },
    {
      "cell_type": "code",
      "source": [
        "\n",
        "import unittest\n",
        "\n",
        "class TestCalculateDogFoodOrder(unittest.TestCase):\n",
        "\n",
        "    def test_no_dogs(self):\n",
        "        # Test when there are no dogs in the shelter\n",
        "        result = calculate_dog_food_order(0, 0, 0, 10)\n",
        "        self.assertEqual(result, 0.0)  # Explanation: 20% of 0 - 10 (remaining_food)\n",
        "\n",
        "    def test_single_size_dogs(self):\n",
        "        # Test when there is only one size of dogs in the shelter\n",
        "        result = calculate_dog_food_order(5, 0, 0, 15)\n",
        "        self.assertEqual(result, 45.0)  # Explanation: (5 small dogs * 10 lb/dog) + (20% more) - (15 (remaining_food))\n",
        "\n",
        "    def test_multiple_sizes_dogs(self):\n",
        "        # Test when there are dogs of multiple sizes in the shelter\n",
        "        result = calculate_dog_food_order(3, 1, 4, 15)\n",
        "        self.assertEqual(result, 189.0)  # Explanation: (3 small dogs * 10 lb/dog) + (1 medium dog * 20 lb/dog) + (4 large dogs * 30 lb/dog) + (20% more) - (15 (remaining_food))\n",
        "\n",
        "    def test_large_remaining_food(self):\n",
        "        # Test when there is a large amount of remaining food\n",
        "        result = calculate_dog_food_order(2, 3, 2, 100)\n",
        "        self.assertEqual(result, 68.0)  # Explanation: (2 small dogs * 10 lb/dog + 3 medium dogs * 20 lb/dog + 2 large dogs * 30 lb/dog) + (20% more) - (100 (remaining_food))\n",
        "\n",
        "    def test_small_remaining_food(self):\n",
        "        # Test when there is very little remaining food\n",
        "        result = calculate_dog_food_order(2, 2, 2, 5)\n",
        "        self.assertEqual(result, 139.0)  # Explanation: (2 small dogs * 10 lb/dog + 2 medium dogs * 20 lb/dog + 2 large dogs * 30 lb/dog) + (20% more) - (5 (remaining_food))\n",
        "\n",
        "if __name__ == '__main__':\n",
        "    unittest.main(argv=['first-arg-is-ignored'], exit=False)\n"
      ],
      "metadata": {
        "colab": {
          "base_uri": "https://localhost:8080/"
        },
        "id": "nclxB9EHfB7T",
        "outputId": "5a9d2e97-2f8b-424a-c811-b3dc67ce915b"
      },
      "execution_count": null,
      "outputs": [
        {
          "output_type": "stream",
          "name": "stderr",
          "text": [
            ".....\n",
            "----------------------------------------------------------------------\n",
            "Ran 5 tests in 0.009s\n",
            "\n",
            "OK\n"
          ]
        }
      ]
    }
  ]
}